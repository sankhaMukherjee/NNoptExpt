{
 "cells": [
  {
   "cell_type": "code",
   "execution_count": 4,
   "metadata": {},
   "outputs": [],
   "source": [
    "import numpy as np\n",
    "import tensorflow as tf"
   ]
  },
  {
   "cell_type": "code",
   "execution_count": 6,
   "metadata": {
    "collapsed": true
   },
   "outputs": [],
   "source": [
    "class NNmodel2():\n",
    "    '''[summary]\n",
    "    \n",
    "    [description]\n",
    "    '''\n",
    "\n",
    "    def __init__(self, inpSize, opSize, layers, activations):\n",
    "        \n",
    "\n",
    "        self.modelOK = False\n",
    "        self.checkPoint = None\n",
    "        self.optimizer = None\n",
    "\n",
    "        self.fitted = False\n",
    "        self.currentErrors = None\n",
    "\n",
    "\n",
    "        self.init    = tf.global_variables_initializer()\n",
    "        self.inpSize = inpSize\n",
    "        self.Inp     = tf.placeholder(dtype=tf.float32, shape=inpSize, name='Inp')\n",
    "        self.Op      = tf.placeholder(dtype=tf.float32, shape=opSize, name='Op')\n",
    "\n",
    "        self.allW         = []\n",
    "        self.allWPH       = []\n",
    "        self.allAssignW   = []\n",
    "\n",
    "        self.allB         = []\n",
    "        self.allBPH       = []\n",
    "        self.allAssignB   = []\n",
    "\n",
    "\n",
    "        self.result  = None\n",
    "\n",
    "        prevSize = inpSize[0]\n",
    "        for i, l in enumerate(layers):\n",
    "\n",
    "            tempW       = tf.Variable( 0.1*(np.random.rand(l, prevSize) - 0.5), dtype=tf.float32, name='W_{}'.format(i) )\n",
    "            tempWPH     = tf.placeholder(dtype=tf.float32, shape=(l, prevSize), name='PHW_{}'.format(i))\n",
    "            tempAssignW = tf.assign(tempW, tempWPH, name='AssignW_{}'.format(i))\n",
    "\n",
    "            tempB       = tf.Variable( 0, dtype=tf.float32, name='B_{}'.format(i) )\n",
    "            tempBPH     = tf.placeholder(dtype=tf.float32, shape=tuple(), name='PHB_{}'.format(i))\n",
    "            tempAssignB = tf.assign(tempB, tempBPH, name='AssignB_{}'.format(i))\n",
    "\n",
    "            self.allW.append( tempW )\n",
    "            self.allWPH.append( tempWPH )\n",
    "            self.allAssignW.append( tempAssignW )\n",
    "\n",
    "            self.allB.append( tempB )\n",
    "            self.allBPH.append( tempBPH )\n",
    "            self.allAssignB.append( tempAssignB )\n",
    "\n",
    "\n",
    "            if i == 0:\n",
    "                self.result = tf.matmul( tempW, self.Inp ) + tempB\n",
    "            else:\n",
    "                self.result = tf.matmul( tempW, self.result ) + tempB\n",
    "\n",
    "            prevSize = l\n",
    "\n",
    "            if activations[i] is not None:\n",
    "                self.result = activations[i]( self.result )\n",
    "\n",
    "        self.err = tf.sqrt(tf.reduce_mean((self.Op - self.result)**2))\n",
    "        self.modelOK = True\n",
    "\n",
    "\n",
    "\n",
    "        return"
   ]
  },
  {
   "cell_type": "code",
   "execution_count": 7,
   "metadata": {},
   "outputs": [
    {
     "name": "stdout",
     "output_type": "stream",
     "text": [
      "We are in the NNmodule\n"
     ]
    }
   ],
   "source": [
    "X = np.random.rand(2, 10000)\n",
    "y = (  2*np.sin(X[0, :]) + 3*np.cos(X[1, :]) ).reshape(1, -1)\n",
    "\n",
    "print('We are in the NNmodule')\n",
    "inpSize     = (2, None)\n",
    "opSize      = (1, None)\n",
    "layers      = (5, 8, 1)\n",
    "activations = [tf.tanh, tf.tanh, None]\n",
    "model1      = NNmodel2(inpSize, opSize, layers, activations)\n"
   ]
  },
  {
   "cell_type": "code",
   "execution_count": 8,
   "metadata": {
    "collapsed": true
   },
   "outputs": [],
   "source": [
    "sess = tf.Session()\n",
    "sess.run(tf.global_variables_initializer())"
   ]
  },
  {
   "cell_type": "code",
   "execution_count": 10,
   "metadata": {},
   "outputs": [],
   "source": [
    "weights = sess.run(model1.allW + model1.allB)"
   ]
  },
  {
   "cell_type": "code",
   "execution_count": 15,
   "metadata": {},
   "outputs": [
    {
     "data": {
      "text/plain": [
       "[(5, 2), (8, 5), (1, 8), (), (), ()]"
      ]
     },
     "execution_count": 15,
     "metadata": {},
     "output_type": "execute_result"
    }
   ],
   "source": [
    "[ w.shape for w in weights]"
   ]
  },
  {
   "cell_type": "code",
   "execution_count": 16,
   "metadata": {},
   "outputs": [
    {
     "name": "stdout",
     "output_type": "stream",
     "text": [
      "[array([[ 3.03136492,  3.00360036],\n",
      "       [ 3.03496718,  3.03835034],\n",
      "       [ 3.00998712,  3.02417254],\n",
      "       [ 3.01572347,  3.03830409],\n",
      "       [ 2.98062611,  3.03701091]], dtype=float32), array([[ 2.97221661,  3.0409236 ,  2.99432778,  2.98048902,  3.00026703],\n",
      "       [ 3.01601267,  3.04845738,  2.97617173,  2.95996666,  2.96442676],\n",
      "       [ 2.96671319,  2.98540378,  3.03539729,  2.95815921,  2.95071554],\n",
      "       [ 2.98195243,  2.97560239,  2.99858451,  3.02192783,  3.00379157],\n",
      "       [ 2.98031282,  3.01286554,  3.01413441,  2.95104742,  3.03247023],\n",
      "       [ 2.99555945,  2.99656153,  2.9828701 ,  2.99992323,  2.954638  ],\n",
      "       [ 3.02651358,  2.97189689,  3.02862167,  2.98879504,  2.99394393],\n",
      "       [ 3.04076362,  2.98958564,  3.0087049 ,  2.96900654,  2.97659087]], dtype=float32), array([[ 2.96111417,  3.00943494,  2.97367597,  3.01174617,  2.99469614,\n",
      "         2.99240255,  2.98095012,  2.98283744]], dtype=float32), 3.0, 3.0, 3.0]\n"
     ]
    }
   ],
   "source": [
    "weights1 = [w+3 for w in weights]\n",
    "print(weights1)"
   ]
  },
  {
   "cell_type": "code",
   "execution_count": 17,
   "metadata": {
    "collapsed": true
   },
   "outputs": [],
   "source": [
    "Ws = sess.run(model1.allW)\n",
    "Ws1 = [w+5 for w in Ws]"
   ]
  },
  {
   "cell_type": "code",
   "execution_count": 22,
   "metadata": {},
   "outputs": [],
   "source": [
    "for i, (w, mW) in enumerate(zip(Ws1, model1.allAssignW)):\n",
    "    sess.run(mW, feed_dict={ 'PHW_{}:0'.format(i) : w } )"
   ]
  },
  {
   "cell_type": "code",
   "execution_count": 23,
   "metadata": {},
   "outputs": [
    {
     "data": {
      "text/plain": [
       "[array([[ 5.03136492,  5.0036006 ],\n",
       "        [ 5.03496742,  5.03835058],\n",
       "        [ 5.00998735,  5.02417231],\n",
       "        [ 5.01572371,  5.03830433],\n",
       "        [ 4.98062611,  5.03701067]], dtype=float32),\n",
       " array([[ 4.97221661,  5.0409236 ,  4.99432755,  4.98048878,  5.00026703],\n",
       "        [ 5.01601267,  5.04845762,  4.97617149,  4.95996666,  4.96442699],\n",
       "        [ 4.96671343,  4.98540354,  5.03539753,  4.95815897,  4.95071554],\n",
       "        [ 4.98195219,  4.97560215,  4.99858427,  5.02192783,  5.00379181],\n",
       "        [ 4.98031282,  5.01286554,  5.01413441,  4.95104742,  5.03247023],\n",
       "        [ 4.99555969,  4.99656153,  4.9828701 ,  4.99992323,  4.954638  ],\n",
       "        [ 5.02651358,  4.97189713,  5.02862167,  4.98879528,  4.99394417],\n",
       "        [ 5.04076338,  4.98958588,  5.00870514,  4.96900654,  4.97659063]], dtype=float32),\n",
       " array([[ 4.96111441,  5.00943518,  4.97367573,  5.01174593,  4.99469614,\n",
       "          4.99240255,  4.98094988,  4.9828372 ]], dtype=float32)]"
      ]
     },
     "execution_count": 23,
     "metadata": {},
     "output_type": "execute_result"
    }
   ],
   "source": [
    "sess.run(model1.allW)"
   ]
  },
  {
   "cell_type": "code",
   "execution_count": 24,
   "metadata": {
    "collapsed": true
   },
   "outputs": [],
   "source": [
    "sess.close()"
   ]
  },
  {
   "cell_type": "code",
   "execution_count": 25,
   "metadata": {},
   "outputs": [
    {
     "name": "stdout",
     "output_type": "stream",
     "text": [
      "[array([[ 5.03136492,  5.0036006 ],\n",
      "       [ 5.03496742,  5.03835058],\n",
      "       [ 5.00998735,  5.02417231],\n",
      "       [ 5.01572371,  5.03830433],\n",
      "       [ 4.98062611,  5.03701067]], dtype=float32), array([[ 4.97221661,  5.0409236 ,  4.99432755,  4.98048878,  5.00026703],\n",
      "       [ 5.01601267,  5.04845762,  4.97617149,  4.95996666,  4.96442699],\n",
      "       [ 4.96671343,  4.98540354,  5.03539753,  4.95815897,  4.95071554],\n",
      "       [ 4.98195219,  4.97560215,  4.99858427,  5.02192783,  5.00379181],\n",
      "       [ 4.98031282,  5.01286554,  5.01413441,  4.95104742,  5.03247023],\n",
      "       [ 4.99555969,  4.99656153,  4.9828701 ,  4.99992323,  4.954638  ],\n",
      "       [ 5.02651358,  4.97189713,  5.02862167,  4.98879528,  4.99394417],\n",
      "       [ 5.04076338,  4.98958588,  5.00870514,  4.96900654,  4.97659063]], dtype=float32), array([[ 4.96111441,  5.00943518,  4.97367573,  5.01174593,  4.99469614,\n",
      "         4.99240255,  4.98094988,  4.9828372 ]], dtype=float32)]\n"
     ]
    }
   ],
   "source": [
    "sess = tf.Session()\n",
    "sess.run(tf.global_variables_initializer())\n",
    "\n",
    "for i, (w, mW) in enumerate(zip(Ws1, model1.allAssignW)):\n",
    "    sess.run(mW, feed_dict={ 'PHW_{}:0'.format(i) : w } )\n",
    "\n",
    "print(sess.run(model1.allW))\n",
    "\n",
    "sess.close()"
   ]
  },
  {
   "cell_type": "code",
   "execution_count": null,
   "metadata": {
    "collapsed": true
   },
   "outputs": [],
   "source": []
  }
 ],
 "metadata": {
  "kernelspec": {
   "display_name": "Python 3",
   "language": "python",
   "name": "python3"
  },
  "language_info": {
   "codemirror_mode": {
    "name": "ipython",
    "version": 3
   },
   "file_extension": ".py",
   "mimetype": "text/x-python",
   "name": "python",
   "nbconvert_exporter": "python",
   "pygments_lexer": "ipython3",
   "version": "3.6.4"
  }
 },
 "nbformat": 4,
 "nbformat_minor": 2
}
